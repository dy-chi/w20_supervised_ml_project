{
 "cells": [
  {
   "cell_type": "markdown",
   "id": "00f4ff7a",
   "metadata": {},
   "source": [
    "For this task, you are required to build a machine learning model to predict the outcome variable. This will be a binary classification task, as the target variable is binary. You should select at least two models, one of which should be an ensemble model, and compare their performance.\n",
    "\n",
    "- Train the models: Train the selected models on the training set.\n",
    "- Model evaluation: Evaluate the trained models on the testing set using appropriate evaluation metrics, such as accuracy, precision, recall, F1-score, and ROC-AUC.\n",
    "- Model comparison: Compare the performance of the selected models and choose the best-performing model based on the evaluation metrics. You can also perform additional analysis, such as model tuning and cross-validation, to improve the model's performance."
   ]
  },
  {
   "cell_type": "code",
   "execution_count": 2,
   "id": "67ebe388",
   "metadata": {},
   "outputs": [],
   "source": [
    "import pandas as pd\n",
    "import matplotlib.pyplot as plt\n",
    "import seaborn as sns\n",
    "import numpy as np"
   ]
  },
  {
   "cell_type": "code",
   "execution_count": 48,
   "id": "ee18f86a",
   "metadata": {},
   "outputs": [],
   "source": [
    "from sklearn import tree\n",
    "from sklearn import preprocessing\n",
    "from sklearn.tree import DecisionTreeClassifier\n",
    "from sklearn.model_selection import train_test_split\n",
    "from sklearn.ensemble import RandomForestClassifier\n",
    "from sklearn.metrics import accuracy_score, classification_report"
   ]
  },
  {
   "cell_type": "code",
   "execution_count": 145,
   "id": "1656002c",
   "metadata": {},
   "outputs": [],
   "source": [
    "import os"
   ]
  },
  {
   "cell_type": "code",
   "execution_count": 148,
   "id": "43ffbb90",
   "metadata": {},
   "outputs": [
    {
     "data": {
      "text/plain": [
       "'C:\\\\Users\\\\user\\\\ml-project-supervised-learning'"
      ]
     },
     "execution_count": 148,
     "metadata": {},
     "output_type": "execute_result"
    }
   ],
   "source": [
    "os.getcwd()"
   ]
  },
  {
   "cell_type": "markdown",
   "id": "75334a9b",
   "metadata": {},
   "source": [
    "# Random Forest "
   ]
  },
  {
   "cell_type": "code",
   "execution_count": 140,
   "id": "f8c86581",
   "metadata": {},
   "outputs": [
    {
     "name": "stdout",
     "output_type": "stream",
     "text": [
      "Accuracy for df_full: 0.75\n",
      "Classification Report for df_full:\n",
      "              precision    recall  f1-score   support\n",
      "\n",
      "           0       0.79      0.84      0.81       101\n",
      "           1       0.65      0.57      0.61        53\n",
      "\n",
      "    accuracy                           0.75       154\n",
      "   macro avg       0.72      0.70      0.71       154\n",
      "weighted avg       0.74      0.75      0.74       154\n",
      "\n",
      "\n",
      "Accuracy for df_no_insulin: 0.73\n",
      "Classification Report for df_no_insulin:\n",
      "              precision    recall  f1-score   support\n",
      "\n",
      "           0       0.76      0.85      0.80       101\n",
      "           1       0.63      0.49      0.55        53\n",
      "\n",
      "    accuracy                           0.73       154\n",
      "   macro avg       0.70      0.67      0.68       154\n",
      "weighted avg       0.72      0.73      0.72       154\n",
      "\n",
      "\n",
      "Accuracy for df_pregnant: 0.79\n",
      "Classification Report for df_pregnant:\n",
      "              precision    recall  f1-score   support\n",
      "\n",
      "           0       0.85      0.83      0.84        86\n",
      "           1       0.69      0.72      0.70        46\n",
      "\n",
      "    accuracy                           0.79       132\n",
      "   macro avg       0.77      0.77      0.77       132\n",
      "weighted avg       0.79      0.79      0.79       132\n",
      "\n",
      "\n"
     ]
    }
   ],
   "source": [
    "filepaths = ['df_full', 'df_no_insulin', 'df_pregnant']\n",
    "\n",
    "for filepath in filepaths:\n",
    "    # Read the CSV file\n",
    "    df = pd.read_csv(filepath)\n",
    "\n",
    "    # Features and target variable\n",
    "    X = df.drop(columns=['Outcome'])  # Features\n",
    "    y = df['Outcome']  # Target variable\n",
    "\n",
    "    X_train, X_test, y_train, y_test = train_test_split(X, y, test_size=0.2, random_state=50)\n",
    "\n",
    "    # Initialize the model\n",
    "    model = RandomForestClassifier(random_state=42,n_estimators=100)\n",
    "\n",
    "    # Train the model\n",
    "    model.fit(X_train, y_train)\n",
    "    y_pred = model.predict(X_test)\n",
    "\n",
    "    # Calculate accuracy\n",
    "    accuracy = accuracy_score(y_test, y_pred)\n",
    "    print(f'Accuracy for {filepath}: {accuracy:.2f}')\n",
    "\n",
    "    # Generate a classification report\n",
    "    report = classification_report(y_test, y_pred)\n",
    "    print(f'Classification Report for {filepath}:\\n{report}\\n')"
   ]
  },
  {
   "cell_type": "markdown",
   "id": "b4d857a5",
   "metadata": {},
   "source": [
    "# Gradient boost Classifier"
   ]
  },
  {
   "cell_type": "code",
   "execution_count": 142,
   "id": "0f82e83f",
   "metadata": {},
   "outputs": [
    {
     "name": "stdout",
     "output_type": "stream",
     "text": [
      "Accuracy for df_full: 0.78\n",
      "Accuracy for df_full: 0.78\n",
      "Classification Report for df_full:\n",
      "              precision    recall  f1-score   support\n",
      "\n",
      "           0       0.83      0.83      0.83       100\n",
      "           1       0.69      0.69      0.69        54\n",
      "\n",
      "    accuracy                           0.78       154\n",
      "   macro avg       0.76      0.76      0.76       154\n",
      "weighted avg       0.78      0.78      0.78       154\n",
      "\n",
      "\n",
      "Accuracy for df_no_insulin: 0.73\n",
      "Accuracy for df_no_insulin: 0.73\n",
      "Classification Report for df_no_insulin:\n",
      "              precision    recall  f1-score   support\n",
      "\n",
      "           0       0.80      0.78      0.79       100\n",
      "           1       0.61      0.65      0.63        54\n",
      "\n",
      "    accuracy                           0.73       154\n",
      "   macro avg       0.71      0.71      0.71       154\n",
      "weighted avg       0.74      0.73      0.74       154\n",
      "\n",
      "\n",
      "Accuracy for df_pregnant: 0.75\n",
      "Accuracy for df_pregnant: 0.75\n",
      "Classification Report for df_pregnant:\n",
      "              precision    recall  f1-score   support\n",
      "\n",
      "           0       0.82      0.83      0.83        94\n",
      "           1       0.57      0.55      0.56        38\n",
      "\n",
      "    accuracy                           0.75       132\n",
      "   macro avg       0.69      0.69      0.69       132\n",
      "weighted avg       0.75      0.75      0.75       132\n",
      "\n",
      "\n"
     ]
    }
   ],
   "source": [
    "filepaths = ['df_full', 'df_no_insulin', 'df_pregnant']\n",
    "\n",
    "for filepath in filepaths:\n",
    "    # Read the CSV file\n",
    "    df = pd.read_csv(filepath)\n",
    "\n",
    "    # Features and target variable\n",
    "    X = df.drop(columns=['Outcome'])  # Features\n",
    "    y = df['Outcome']  # Target variable\n",
    "\n",
    "    X_train, X_test, y_train, y_test = train_test_split(X, y, test_size=0.2, random_state=998)\n",
    "\n",
    "    # Initialize the model\n",
    "    model = GradientBoostingClassifier(loss='log_loss', random_state=9898)\n",
    "    # Train the model\n",
    "    model.fit(X_train, y_train)\n",
    "    y_pred = model.predict(X_test)\n",
    "    # Calculate accuracy\n",
    "    accuracy = accuracy_score(y_test, y_pred)\n",
    "    print(f'Accuracy for {filepath}: {accuracy:.2f}')\n",
    "    # Generate a classification report\n",
    "    report = classification_report(y_test, y_pred)\n",
    "    print(f'Accuracy for {filepath}: {accuracy:.2f}')\n",
    "\n",
    "    # Generate a classification report\n",
    "    report = classification_report(y_test, y_pred)\n",
    "    print(f'Classification Report for {filepath}:\\n{report}\\n')"
   ]
  },
  {
   "cell_type": "markdown",
   "id": "0c3e8187",
   "metadata": {},
   "source": [
    "# Hist Gradient Boost Classfier"
   ]
  },
  {
   "cell_type": "code",
   "execution_count": 143,
   "id": "a127b8e1",
   "metadata": {
    "scrolled": true
   },
   "outputs": [
    {
     "name": "stdout",
     "output_type": "stream",
     "text": [
      "Accuracy for df_full: 0.76\n",
      "Accuracy for df_full: 0.76\n",
      "Classification Report for df_full:\n",
      "              precision    recall  f1-score   support\n",
      "\n",
      "           0       0.82      0.81      0.81       100\n",
      "           1       0.65      0.67      0.66        54\n",
      "\n",
      "    accuracy                           0.76       154\n",
      "   macro avg       0.74      0.74      0.74       154\n",
      "weighted avg       0.76      0.76      0.76       154\n",
      "\n",
      "\n",
      "Accuracy for df_no_insulin: 0.75\n",
      "Accuracy for df_no_insulin: 0.75\n",
      "Classification Report for df_no_insulin:\n",
      "              precision    recall  f1-score   support\n",
      "\n",
      "           0       0.82      0.80      0.81       100\n",
      "           1       0.64      0.67      0.65        54\n",
      "\n",
      "    accuracy                           0.75       154\n",
      "   macro avg       0.73      0.73      0.73       154\n",
      "weighted avg       0.76      0.75      0.75       154\n",
      "\n",
      "\n",
      "Accuracy for df_pregnant: 0.77\n",
      "Accuracy for df_pregnant: 0.77\n",
      "Classification Report for df_pregnant:\n",
      "              precision    recall  f1-score   support\n",
      "\n",
      "           0       0.82      0.85      0.84        94\n",
      "           1       0.60      0.55      0.58        38\n",
      "\n",
      "    accuracy                           0.77       132\n",
      "   macro avg       0.71      0.70      0.71       132\n",
      "weighted avg       0.76      0.77      0.76       132\n",
      "\n",
      "\n"
     ]
    }
   ],
   "source": [
    "filepaths = ['df_full', 'df_no_insulin', 'df_pregnant']\n",
    "\n",
    "for filepath in filepaths:\n",
    "    # Read the CSV file\n",
    "    df = pd.read_csv(filepath)\n",
    "\n",
    "    # Features and target variable\n",
    "    X = df.drop(columns=['Outcome'])  # Features\n",
    "    y = df['Outcome']  # Target variable\n",
    "\n",
    "    X_train, X_test, y_train, y_test = train_test_split(X, y, test_size=0.2, random_state=998)\n",
    "\n",
    "    # Initialize the model\n",
    "    model = HistGradientBoostingClassifier(loss='log_loss', random_state=9898)\n",
    "    # Train the model\n",
    "    model.fit(X_train, y_train)\n",
    "    y_pred = model.predict(X_test)\n",
    "    # Calculate accuracy\n",
    "    accuracy = accuracy_score(y_test, y_pred)\n",
    "    print(f'Accuracy for {filepath}: {accuracy:.2f}')\n",
    "    # Generate a classification report\n",
    "    report = classification_report(y_test, y_pred)\n",
    "    print(f'Accuracy for {filepath}: {accuracy:.2f}')\n",
    "\n",
    "    # Generate a classification report\n",
    "    report = classification_report(y_test, y_pred)\n",
    "    print(f'Classification Report for {filepath}:\\n{report}\\n')"
   ]
  },
  {
   "cell_type": "markdown",
   "id": "1155c6b8",
   "metadata": {},
   "source": [
    "# BaggingClassifier"
   ]
  },
  {
   "cell_type": "code",
   "execution_count": 84,
   "id": "43eb01ed",
   "metadata": {},
   "outputs": [],
   "source": [
    "from sklearn.ensemble import BaggingClassifier\n",
    "from sklearn.neighbors import KNeighborsClassifier\n",
    "bagging = BaggingClassifier(KNeighborsClassifier(), max_samples=0.5, max_features=0.5)"
   ]
  },
  {
   "cell_type": "code",
   "execution_count": 144,
   "id": "1dc48225",
   "metadata": {},
   "outputs": [
    {
     "name": "stdout",
     "output_type": "stream",
     "text": [
      "Accuracy for df_full: 0.80\n",
      "Accuracy for df_full: 0.80\n",
      "Classification Report for df_full:\n",
      "              precision    recall  f1-score   support\n",
      "\n",
      "           0       0.82      0.88      0.85       100\n",
      "           1       0.74      0.65      0.69        54\n",
      "\n",
      "    accuracy                           0.80       154\n",
      "   macro avg       0.78      0.76      0.77       154\n",
      "weighted avg       0.80      0.80      0.80       154\n",
      "\n",
      "\n",
      "Accuracy for df_no_insulin: 0.81\n",
      "Accuracy for df_no_insulin: 0.81\n",
      "Classification Report for df_no_insulin:\n",
      "              precision    recall  f1-score   support\n",
      "\n",
      "           0       0.83      0.88      0.85       100\n",
      "           1       0.75      0.67      0.71        54\n",
      "\n",
      "    accuracy                           0.81       154\n",
      "   macro avg       0.79      0.77      0.78       154\n",
      "weighted avg       0.80      0.81      0.80       154\n",
      "\n",
      "\n",
      "Accuracy for df_pregnant: 0.80\n",
      "Accuracy for df_pregnant: 0.80\n",
      "Classification Report for df_pregnant:\n",
      "              precision    recall  f1-score   support\n",
      "\n",
      "           0       0.84      0.89      0.87        94\n",
      "           1       0.69      0.58      0.63        38\n",
      "\n",
      "    accuracy                           0.80       132\n",
      "   macro avg       0.76      0.74      0.75       132\n",
      "weighted avg       0.80      0.80      0.80       132\n",
      "\n",
      "\n"
     ]
    }
   ],
   "source": [
    "filepaths = ['df_full', 'df_no_insulin', 'df_pregnant']\n",
    "\n",
    "for filepath in filepaths:\n",
    "    # Read the CSV file\n",
    "    df = pd.read_csv(filepath)\n",
    "\n",
    "    # Features and target variable\n",
    "    X = df.drop(columns=['Outcome'])  # Features\n",
    "    y = df['Outcome']  # Target variable\n",
    "\n",
    "    X_train, X_test, y_train, y_test = train_test_split(X, y, test_size=0.2, random_state=998)\n",
    "    \n",
    "    estimator = DecisionTreeClassifier(random_state=42)\n",
    "\n",
    "    # Create a BaggingClassifier with 100 base estimators (decision trees)\n",
    "    bagging_classifier = BaggingClassifier(estimator=estimator, n_estimators=100, random_state=42)\n",
    "\n",
    "    # Train the BaggingClassifier\n",
    "    bagging_classifier.fit(X_train, y_train)\n",
    "\n",
    "    # Make predictions on the test set\n",
    "    y_pred = bagging_classifier.predict(X_test)\n",
    "    # Calculate accuracy\n",
    "    accuracy = accuracy_score(y_test, y_pred)\n",
    "    print(f'Accuracy for {filepath}: {accuracy:.2f}')\n",
    "    # Generate a classification report\n",
    "    report = classification_report(y_test, y_pred)\n",
    "    print(f'Accuracy for {filepath}: {accuracy:.2f}')\n",
    "\n",
    "    # Generate a classification report\n",
    "    report = classification_report(y_test, y_pred)\n",
    "    print(f'Classification Report for {filepath}:\\n{report}\\n')"
   ]
  },
  {
   "cell_type": "code",
   "execution_count": 23,
   "id": "9096c5ac",
   "metadata": {},
   "outputs": [
    {
     "name": "stdout",
     "output_type": "stream",
     "text": [
      "Accuracy: 0.85\n",
      "              precision    recall  f1-score   support\n",
      "\n",
      "           0       0.83      0.86      0.85        51\n",
      "           1       0.87      0.84      0.86        57\n",
      "\n",
      "    accuracy                           0.85       108\n",
      "   macro avg       0.85      0.85      0.85       108\n",
      "weighted avg       0.85      0.85      0.85       108\n",
      "\n"
     ]
    }
   ],
   "source": []
  },
  {
   "cell_type": "code",
   "execution_count": 24,
   "id": "44d226f6",
   "metadata": {},
   "outputs": [
    {
     "name": "stdout",
     "output_type": "stream",
     "text": [
      "Confusion Matrix:\n",
      "[[44  7]\n",
      " [ 9 48]]\n"
     ]
    }
   ],
   "source": [
    "from sklearn.metrics import confusion_matrix\n",
    "\n",
    "# Calculate the confusion matrix\n",
    "confusion = confusion_matrix(y_test,y_pred)\n",
    "\n",
    "# Output the confusion matrix\n",
    "print(\"Confusion Matrix:\")\n",
    "print(confusion)\n"
   ]
  },
  {
   "cell_type": "code",
   "execution_count": 18,
   "id": "90bceff3",
   "metadata": {},
   "outputs": [
    {
     "data": {
      "text/plain": [
       "(536, 15)"
      ]
     },
     "execution_count": 18,
     "metadata": {},
     "output_type": "execute_result"
    }
   ],
   "source": [
    "df.shape"
   ]
  },
  {
   "cell_type": "markdown",
   "id": "c2e449e7",
   "metadata": {},
   "source": [
    "class sklearn.ensemble.HistGradientBoostingClassifier(loss='log_loss', *, learning_rate=0.1, max_iter=100, max_leaf_nodes=31, max_depth=None, min_samples_leaf=20, l2_regularization=0.0, max_bins=255, categorical_features=None, monotonic_cst=None, interaction_cst=None, warm_start=False, early_stopping='auto', scoring='loss', validation_fraction=0.1, n_iter_no_change=10, tol=1e-07, verbose=0, random_state=None, class_weight=None)"
   ]
  },
  {
   "cell_type": "code",
   "execution_count": 27,
   "id": "e77555c7",
   "metadata": {},
   "outputs": [],
   "source": [
    "from sklearn.ensemble import HistGradientBoostingClassifier"
   ]
  },
  {
   "cell_type": "code",
   "execution_count": 37,
   "id": "763d5669",
   "metadata": {},
   "outputs": [],
   "source": [
    "\n",
    "model = HistGradientBoostingClassifier(loss='log_loss', random_state=9898)\n",
    "# Train the model\n",
    "model.fit(X_train, y_train)\n",
    "\n",
    "# Calculate accuracy\n",
    "accuracy = accuracy_score(y_test, y_pred)\n",
    "print(f'Accuracy: {accuracy:.2f}')\n",
    "y_pred = model.predict(X_test)\n",
    "# Generate a classification report\n",
    "report = classification_report(y_test, y_pred)\n",
    "print(report)"
   ]
  },
  {
   "cell_type": "code",
   "execution_count": 38,
   "id": "51cdbdc8",
   "metadata": {},
   "outputs": [
    {
     "data": {
      "text/html": [
       "<style>#sk-container-id-4 {color: black;}#sk-container-id-4 pre{padding: 0;}#sk-container-id-4 div.sk-toggleable {background-color: white;}#sk-container-id-4 label.sk-toggleable__label {cursor: pointer;display: block;width: 100%;margin-bottom: 0;padding: 0.3em;box-sizing: border-box;text-align: center;}#sk-container-id-4 label.sk-toggleable__label-arrow:before {content: \"▸\";float: left;margin-right: 0.25em;color: #696969;}#sk-container-id-4 label.sk-toggleable__label-arrow:hover:before {color: black;}#sk-container-id-4 div.sk-estimator:hover label.sk-toggleable__label-arrow:before {color: black;}#sk-container-id-4 div.sk-toggleable__content {max-height: 0;max-width: 0;overflow: hidden;text-align: left;background-color: #f0f8ff;}#sk-container-id-4 div.sk-toggleable__content pre {margin: 0.2em;color: black;border-radius: 0.25em;background-color: #f0f8ff;}#sk-container-id-4 input.sk-toggleable__control:checked~div.sk-toggleable__content {max-height: 200px;max-width: 100%;overflow: auto;}#sk-container-id-4 input.sk-toggleable__control:checked~label.sk-toggleable__label-arrow:before {content: \"▾\";}#sk-container-id-4 div.sk-estimator input.sk-toggleable__control:checked~label.sk-toggleable__label {background-color: #d4ebff;}#sk-container-id-4 div.sk-label input.sk-toggleable__control:checked~label.sk-toggleable__label {background-color: #d4ebff;}#sk-container-id-4 input.sk-hidden--visually {border: 0;clip: rect(1px 1px 1px 1px);clip: rect(1px, 1px, 1px, 1px);height: 1px;margin: -1px;overflow: hidden;padding: 0;position: absolute;width: 1px;}#sk-container-id-4 div.sk-estimator {font-family: monospace;background-color: #f0f8ff;border: 1px dotted black;border-radius: 0.25em;box-sizing: border-box;margin-bottom: 0.5em;}#sk-container-id-4 div.sk-estimator:hover {background-color: #d4ebff;}#sk-container-id-4 div.sk-parallel-item::after {content: \"\";width: 100%;border-bottom: 1px solid gray;flex-grow: 1;}#sk-container-id-4 div.sk-label:hover label.sk-toggleable__label {background-color: #d4ebff;}#sk-container-id-4 div.sk-serial::before {content: \"\";position: absolute;border-left: 1px solid gray;box-sizing: border-box;top: 0;bottom: 0;left: 50%;z-index: 0;}#sk-container-id-4 div.sk-serial {display: flex;flex-direction: column;align-items: center;background-color: white;padding-right: 0.2em;padding-left: 0.2em;position: relative;}#sk-container-id-4 div.sk-item {position: relative;z-index: 1;}#sk-container-id-4 div.sk-parallel {display: flex;align-items: stretch;justify-content: center;background-color: white;position: relative;}#sk-container-id-4 div.sk-item::before, #sk-container-id-4 div.sk-parallel-item::before {content: \"\";position: absolute;border-left: 1px solid gray;box-sizing: border-box;top: 0;bottom: 0;left: 50%;z-index: -1;}#sk-container-id-4 div.sk-parallel-item {display: flex;flex-direction: column;z-index: 1;position: relative;background-color: white;}#sk-container-id-4 div.sk-parallel-item:first-child::after {align-self: flex-end;width: 50%;}#sk-container-id-4 div.sk-parallel-item:last-child::after {align-self: flex-start;width: 50%;}#sk-container-id-4 div.sk-parallel-item:only-child::after {width: 0;}#sk-container-id-4 div.sk-dashed-wrapped {border: 1px dashed gray;margin: 0 0.4em 0.5em 0.4em;box-sizing: border-box;padding-bottom: 0.4em;background-color: white;}#sk-container-id-4 div.sk-label label {font-family: monospace;font-weight: bold;display: inline-block;line-height: 1.2em;}#sk-container-id-4 div.sk-label-container {text-align: center;}#sk-container-id-4 div.sk-container {/* jupyter's `normalize.less` sets `[hidden] { display: none; }` but bootstrap.min.css set `[hidden] { display: none !important; }` so we also need the `!important` here to be able to override the default hidden behavior on the sphinx rendered scikit-learn.org. See: https://github.com/scikit-learn/scikit-learn/issues/21755 */display: inline-block !important;position: relative;}#sk-container-id-4 div.sk-text-repr-fallback {display: none;}</style><div id=\"sk-container-id-4\" class=\"sk-top-container\"><div class=\"sk-text-repr-fallback\"><pre>HistGradientBoostingClassifier(random_state=9898)</pre><b>In a Jupyter environment, please rerun this cell to show the HTML representation or trust the notebook. <br />On GitHub, the HTML representation is unable to render, please try loading this page with nbviewer.org.</b></div><div class=\"sk-container\" hidden><div class=\"sk-item\"><div class=\"sk-estimator sk-toggleable\"><input class=\"sk-toggleable__control sk-hidden--visually\" id=\"sk-estimator-id-4\" type=\"checkbox\" checked><label for=\"sk-estimator-id-4\" class=\"sk-toggleable__label sk-toggleable__label-arrow\">HistGradientBoostingClassifier</label><div class=\"sk-toggleable__content\"><pre>HistGradientBoostingClassifier(random_state=9898)</pre></div></div></div></div></div>"
      ],
      "text/plain": [
       "HistGradientBoostingClassifier(random_state=9898)"
      ]
     },
     "execution_count": 38,
     "metadata": {},
     "output_type": "execute_result"
    }
   ],
   "source": []
  },
  {
   "cell_type": "code",
   "execution_count": 39,
   "id": "fa5b8df4",
   "metadata": {},
   "outputs": [],
   "source": [
    "y_pred = model.predict(X_test)"
   ]
  },
  {
   "cell_type": "code",
   "execution_count": 40,
   "id": "8db78468",
   "metadata": {},
   "outputs": [
    {
     "name": "stdout",
     "output_type": "stream",
     "text": [
      "Accuracy: 0.81\n",
      "              precision    recall  f1-score   support\n",
      "\n",
      "           0       0.76      0.86      0.81        51\n",
      "           1       0.86      0.75      0.80        57\n",
      "\n",
      "    accuracy                           0.81       108\n",
      "   macro avg       0.81      0.81      0.81       108\n",
      "weighted avg       0.81      0.81      0.81       108\n",
      "\n"
     ]
    }
   ],
   "source": [
    "# Calculate accuracy\n",
    "accuracy = accuracy_score(y_test, y_pred)\n",
    "print(f'Accuracy: {accuracy:.2f}')\n",
    "\n",
    "# Generate a classification report\n",
    "report = classification_report(y_test, y_pred)\n",
    "print(report)"
   ]
  },
  {
   "cell_type": "code",
   "execution_count": 41,
   "id": "f5214c30",
   "metadata": {},
   "outputs": [
    {
     "name": "stdout",
     "output_type": "stream",
     "text": [
      "Confusion Matrix:\n",
      "[[44  7]\n",
      " [14 43]]\n"
     ]
    }
   ],
   "source": [
    "# Calculate the confusion matrix\n",
    "confusion = confusion_matrix(y_test,y_pred)\n",
    "\n",
    "# Output the confusion matrix\n",
    "print(\"Confusion Matrix:\")\n",
    "print(confusion)"
   ]
  },
  {
   "cell_type": "code",
   "execution_count": 43,
   "id": "87d0c6da",
   "metadata": {},
   "outputs": [],
   "source": [
    "from sklearn.ensemble import GradientBoostingClassifier"
   ]
  },
  {
   "cell_type": "code",
   "execution_count": 44,
   "id": "6f34a42d",
   "metadata": {},
   "outputs": [
    {
     "name": "stdout",
     "output_type": "stream",
     "text": [
      "Accuracy: 0.81\n",
      "              precision    recall  f1-score   support\n",
      "\n",
      "           0       0.78      0.82      0.80        51\n",
      "           1       0.83      0.79      0.81        57\n",
      "\n",
      "    accuracy                           0.81       108\n",
      "   macro avg       0.81      0.81      0.81       108\n",
      "weighted avg       0.81      0.81      0.81       108\n",
      "\n"
     ]
    }
   ],
   "source": [
    "model = GradientBoostingClassifier(loss='log_loss', random_state=9898)\n",
    "# Train the model\n",
    "model.fit(X_train, y_train)\n",
    "\n",
    "# Calculate accuracy\n",
    "accuracy = accuracy_score(y_test, y_pred)\n",
    "print(f'Accuracy: {accuracy:.2f}')\n",
    "y_pred = model.predict(X_test)\n",
    "# Generate a classification report\n",
    "report = classification_report(y_test, y_pred)\n",
    "print(report)"
   ]
  },
  {
   "cell_type": "code",
   "execution_count": 45,
   "id": "3041e985",
   "metadata": {},
   "outputs": [
    {
     "name": "stdout",
     "output_type": "stream",
     "text": [
      "Confusion Matrix:\n",
      "[[42  9]\n",
      " [12 45]]\n"
     ]
    }
   ],
   "source": [
    "# Calculate the confusion matrix\n",
    "confusion = confusion_matrix(y_test,y_pred)\n",
    "\n",
    "# Output the confusion matrix\n",
    "print(\"Confusion Matrix:\")\n",
    "print(confusion)"
   ]
  },
  {
   "cell_type": "code",
   "execution_count": 46,
   "id": "9f6050c6",
   "metadata": {},
   "outputs": [],
   "source": [
    "df=pd.read_csv('df_no_insulin')"
   ]
  },
  {
   "cell_type": "code",
   "execution_count": 49,
   "id": "69fd66de",
   "metadata": {},
   "outputs": [
    {
     "name": "stdout",
     "output_type": "stream",
     "text": [
      "Accuracy: 0.76\n",
      "              precision    recall  f1-score   support\n",
      "\n",
      "           0       0.80      0.84      0.82       100\n",
      "           1       0.67      0.61      0.64        54\n",
      "\n",
      "    accuracy                           0.76       154\n",
      "   macro avg       0.74      0.73      0.73       154\n",
      "weighted avg       0.76      0.76      0.76       154\n",
      "\n"
     ]
    }
   ],
   "source": [
    "# Features and target variable\n",
    "X = df.drop(columns=['Outcome'])  # Features\n",
    "y = df['Outcome']  # Target variable\n",
    "\n",
    "\n",
    "X_train, X_test, y_train, y_test = train_test_split(X, y, test_size=0.2, random_state=998)\n",
    "\n",
    "\n",
    "# Initialize the model\n",
    "model = RandomForestClassifier(random_state=42)\n",
    "# Train the model\n",
    "model.fit(X_train, y_train)\n",
    "y_pred = model.predict(X_test)\n",
    "\n",
    "\n",
    "# Calculate accuracy\n",
    "accuracy = accuracy_score(y_test, y_pred)\n",
    "print(f'Accuracy: {accuracy:.2f}')\n",
    "\n",
    "# Generate a classification report\n",
    "report = classification_report(y_test, y_pred)\n",
    "print(report)"
   ]
  },
  {
   "cell_type": "code",
   "execution_count": 50,
   "id": "fe2e7615",
   "metadata": {},
   "outputs": [],
   "source": [
    "df=pd.read_csv('df_pregnant')"
   ]
  },
  {
   "cell_type": "code",
   "execution_count": 51,
   "id": "231dc21a",
   "metadata": {},
   "outputs": [
    {
     "name": "stdout",
     "output_type": "stream",
     "text": [
      "Accuracy: 0.80\n",
      "              precision    recall  f1-score   support\n",
      "\n",
      "           0       0.85      0.88      0.86        94\n",
      "           1       0.68      0.61      0.64        38\n",
      "\n",
      "    accuracy                           0.80       132\n",
      "   macro avg       0.76      0.74      0.75       132\n",
      "weighted avg       0.80      0.80      0.80       132\n",
      "\n"
     ]
    }
   ],
   "source": [
    "# Features and target variable\n",
    "X = df.drop(columns=['Outcome'])  # Features\n",
    "y = df['Outcome']  # Target variable\n",
    "\n",
    "\n",
    "X_train, X_test, y_train, y_test = train_test_split(X, y, test_size=0.2, random_state=998)\n",
    "\n",
    "\n",
    "# Initialize the model\n",
    "model = RandomForestClassifier(random_state=42)\n",
    "# Train the model\n",
    "model.fit(X_train, y_train)\n",
    "y_pred = model.predict(X_test)\n",
    "\n",
    "\n",
    "# Calculate accuracy\n",
    "accuracy = accuracy_score(y_test, y_pred)\n",
    "print(f'Accuracy: {accuracy:.2f}')\n",
    "\n",
    "# Generate a classification report\n",
    "report = classification_report(y_test, y_pred)\n",
    "print(report)"
   ]
  },
  {
   "cell_type": "code",
   "execution_count": null,
   "id": "89cf7c88",
   "metadata": {},
   "outputs": [],
   "source": []
  }
 ],
 "metadata": {
  "kernelspec": {
   "display_name": "lhl_base_env",
   "language": "python",
   "name": "lhl_base_env"
  },
  "language_info": {
   "codemirror_mode": {
    "name": "ipython",
    "version": 3
   },
   "file_extension": ".py",
   "mimetype": "text/x-python",
   "name": "python",
   "nbconvert_exporter": "python",
   "pygments_lexer": "ipython3",
   "version": "3.9.18"
  }
 },
 "nbformat": 4,
 "nbformat_minor": 5
}
